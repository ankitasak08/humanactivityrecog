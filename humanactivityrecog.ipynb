{
  "cells": [
    {
      "cell_type": "code",
      "execution_count": 1,
      "metadata": {
        "colab": {
          "base_uri": "https://localhost:8080/"
        },
        "id": "DKqH_4PKZleD",
        "outputId": "bb2500bf-f0b7-40fa-bfea-1e220ef8c2f5"
      },
      "outputs": [
        {
          "name": "stdout",
          "output_type": "stream",
          "text": [
            "   user activity      timestamp  x-axis  y-axis  z-axis\n",
            "0     1  Walking  4991922345000    0.69   10.80   -2.03\n",
            "1     1  Walking  4991972333000    6.85    7.44   -0.50\n",
            "2     1  Walking  4992022351000    0.93    5.63   -0.50\n",
            "3     1  Walking  4992072339000   -2.11    5.01   -0.69\n",
            "4     1  Walking  4992122358000   -4.59    4.29   -1.95\n",
            "Accuracy: 0.93\n",
            "Classification Report:\n",
            "              precision    recall  f1-score   support\n",
            "\n",
            "  Downstairs       0.87      0.82      0.85     20129\n",
            "     Jogging       0.94      0.93      0.93     65138\n",
            "     Sitting       1.00      1.00      1.00     12099\n",
            "    Standing       0.99      0.99      0.99      9591\n",
            "    Upstairs       0.88      0.84      0.86     24350\n",
            "     Walking       0.92      0.95      0.94     83418\n",
            "\n",
            "    accuracy                           0.93    214725\n",
            "   macro avg       0.93      0.92      0.93    214725\n",
            "weighted avg       0.92      0.93      0.92    214725\n",
            "\n"
          ]
        }
      ],
      "source": [
        "import pandas as pd\n",
        "from sklearn.model_selection import train_test_split\n",
        "from sklearn.ensemble import RandomForestClassifier\n",
        "from sklearn.metrics import accuracy_score, classification_report\n",
        "file_path = 'C:\\\\ML Model Deployment\\\\model\\\\time_series_data_human_activities.csv'\n",
        "df = pd.read_csv(file_path)\n",
        "print(df.head())\n",
        "X = df[['timestamp','x-axis', 'y-axis', 'z-axis']]\n",
        "y = df['activity']\n",
        "X_train, X_test, y_train, y_test = train_test_split(X, y, test_size=0.2, random_state=42)\n",
        "rf_classifier = RandomForestClassifier(n_estimators=100, random_state=42)\n",
        "rf_classifier.fit(X_train, y_train)\n",
        "y_pred = rf_classifier.predict(X_test)\n",
        "accuracy = accuracy_score(y_test, y_pred)\n",
        "print(f\"Accuracy: {accuracy:.2f}\")\n",
        "print(\"Classification Report:\")\n",
        "print(classification_report(y_test, y_pred))"
      ]
    },
    {
      "cell_type": "code",
      "execution_count": 2,
      "metadata": {
        "colab": {
          "base_uri": "https://localhost:8080/"
        },
        "id": "ExmtOArqN5Gm",
        "outputId": "c878ea76-4779-4b8b-c0de-2f1abdb3b5bc"
      },
      "outputs": [
        {
          "data": {
            "text/plain": [
              "['har_model.joblib']"
            ]
          },
          "execution_count": 2,
          "metadata": {},
          "output_type": "execute_result"
        }
      ],
      "source": [
        "import joblib\n",
        "joblib.dump(rf_classifier, 'har_model.joblib')"
      ]
    }
  ],
  "metadata": {
    "colab": {
      "provenance": []
    },
    "kernelspec": {
      "display_name": "Python 3",
      "name": "python3"
    },
    "language_info": {
      "codemirror_mode": {
        "name": "ipython",
        "version": 3
      },
      "file_extension": ".py",
      "mimetype": "text/x-python",
      "name": "python",
      "nbconvert_exporter": "python",
      "pygments_lexer": "ipython3",
      "version": "3.11.1"
    }
  },
  "nbformat": 4,
  "nbformat_minor": 0
}
